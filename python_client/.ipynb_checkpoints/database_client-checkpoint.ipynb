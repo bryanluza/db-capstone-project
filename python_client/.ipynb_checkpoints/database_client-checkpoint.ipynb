{
 "cells": [
  {
   "cell_type": "markdown",
   "id": "91b0ced6",
   "metadata": {},
   "source": [
    "# Packages"
   ]
  },
  {
   "cell_type": "code",
   "execution_count": 1,
   "id": "971ee268",
   "metadata": {},
   "outputs": [],
   "source": [
    "import mysql.connector as connector"
   ]
  },
  {
   "cell_type": "markdown",
   "id": "61b22126",
   "metadata": {},
   "source": [
    "# DB connection"
   ]
  },
  {
   "cell_type": "code",
   "execution_count": 2,
   "id": "33c7d09d",
   "metadata": {},
   "outputs": [],
   "source": [
    "connection = connector.connect(user = \"littlelemon\", password = \"LittleLemon\", db = \"littlelemondb\")\n",
    "cursor = connection.cursor()"
   ]
  },
  {
   "cell_type": "markdown",
   "id": "95eecef3",
   "metadata": {},
   "source": [
    "# Check connection and tables on the DB"
   ]
  },
  {
   "cell_type": "code",
   "execution_count": 3,
   "id": "6d2162d8",
   "metadata": {},
   "outputs": [
    {
     "name": "stdout",
     "output_type": "stream",
     "text": [
      "Tables created:\n",
      "('bookings',)\n",
      "('customers',)\n",
      "('deliveries',)\n",
      "('employees',)\n",
      "('menu',)\n",
      "('menuitems',)\n",
      "('orders',)\n",
      "('ordersview',)\n"
     ]
    }
   ],
   "source": [
    "cursor.execute(\"SHOW TABLES;\")\n",
    "tables = cursor.fetchall()\n",
    "print('Tables created:')\n",
    "for table in tables:\n",
    "    print(table)"
   ]
  },
  {
   "cell_type": "markdown",
   "id": "35293a15",
   "metadata": {},
   "source": [
    "# Customers details for promo"
   ]
  },
  {
   "cell_type": "code",
   "execution_count": 4,
   "id": "862933ce",
   "metadata": {},
   "outputs": [
    {
     "name": "stdout",
     "output_type": "stream",
     "text": [
      "Customers that meet the criteria:\n",
      "('Bryan', 'Diaz', 6559851, 'bryan.diaz@email.com')\n"
     ]
    }
   ],
   "source": [
    "customers_details_promo_query = \"\"\"SELECT customers.firstName, customers.lastName, customers.phoneNo, customers.email \n",
    "                                    FROM customers\n",
    "                                    INNER JOIN orders ON (customers.customerID = orders.customerID)\n",
    "                                    WHERE orders.total > 60;\"\"\"\n",
    "\n",
    "cursor.execute(customers_details_promo_query)\n",
    "results = cursor.fetchall()\n",
    "print('Customers that meet the criteria:')\n",
    "for row in results:\n",
    "    print(row)"
   ]
  },
  {
   "cell_type": "markdown",
   "id": "0832d145",
   "metadata": {},
   "source": [
    "# Close cursor and connection when done"
   ]
  },
  {
   "cell_type": "code",
   "execution_count": 5,
   "id": "73e11bd3",
   "metadata": {},
   "outputs": [
    {
     "name": "stdout",
     "output_type": "stream",
     "text": [
      "MySQL connection is closed\n"
     ]
    }
   ],
   "source": [
    "if connection.is_connected():\n",
    "    cursor.close()\n",
    "    connection.close()\n",
    "print(\"MySQL connection is closed\")"
   ]
  }
 ],
 "metadata": {
  "kernelspec": {
   "display_name": "Python 3 (ipykernel)",
   "language": "python",
   "name": "python3"
  },
  "language_info": {
   "codemirror_mode": {
    "name": "ipython",
    "version": 3
   },
   "file_extension": ".py",
   "mimetype": "text/x-python",
   "name": "python",
   "nbconvert_exporter": "python",
   "pygments_lexer": "ipython3",
   "version": "3.10.5"
  }
 },
 "nbformat": 4,
 "nbformat_minor": 5
}
